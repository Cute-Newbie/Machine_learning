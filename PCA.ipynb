{
  "nbformat": 4,
  "nbformat_minor": 0,
  "metadata": {
    "colab": {
      "provenance": []
    },
    "kernelspec": {
      "name": "python3",
      "display_name": "Python 3"
    },
    "language_info": {
      "name": "python"
    }
  },
  "cells": [
    {
      "cell_type": "code",
      "execution_count": 17,
      "metadata": {
        "id": "ZyQcyOUSfol-"
      },
      "outputs": [],
      "source": [
        "import numpy as np\n",
        "import matplotlib.pyplot as plt"
      ]
    },
    {
      "cell_type": "code",
      "source": [
        "x = np.array([1,2,3,4,5])\n",
        "y = np.array([1,3,5,3,7])\n",
        "\n",
        "N = len(x)"
      ],
      "metadata": {
        "id": "bgmbYWErfq3x"
      },
      "execution_count": 18,
      "outputs": []
    },
    {
      "cell_type": "code",
      "source": [
        "# Calculate Mean\n",
        "mu_x = np.mean(x)\n",
        "mu_y = np.mean(y)\n",
        "print(mu_x)\n",
        "print(mu_y)"
      ],
      "metadata": {
        "colab": {
          "base_uri": "https://localhost:8080/"
        },
        "id": "eTeRwdnffq6Q",
        "outputId": "7c9f7f9d-0a3d-42d1-f6a0-8defe6945138"
      },
      "execution_count": 19,
      "outputs": [
        {
          "output_type": "stream",
          "name": "stdout",
          "text": [
            "3.0\n",
            "3.8\n"
          ]
        }
      ]
    },
    {
      "cell_type": "code",
      "source": [
        "#Calculate Sigma\n",
        "x_tilde = x-mu_x\n",
        "y_tilde = y-mu_y\n",
        "tildes = np.vstack((x_tilde.T,y_tilde.T))\n",
        "sigma = np.dot(tildes,tildes.T)/N\n",
        "\n",
        "print(x_tilde)\n",
        "print(y_tilde)\n",
        "print(x_tilde.T.shape)\n",
        "print(y_tilde.T.shape)\n",
        "print(tildes)\n",
        "print(tildes.shape)\n",
        "print(sigma)"
      ],
      "metadata": {
        "colab": {
          "base_uri": "https://localhost:8080/"
        },
        "id": "lJKrLdzPfq8g",
        "outputId": "599a6abc-f994-4ca2-ddd6-b6e7d60b0c12"
      },
      "execution_count": 20,
      "outputs": [
        {
          "output_type": "stream",
          "name": "stdout",
          "text": [
            "[-2. -1.  0.  1.  2.]\n",
            "[-2.8 -0.8  1.2 -0.8  3.2]\n",
            "(5,)\n",
            "(5,)\n",
            "[[-2.  -1.   0.   1.   2. ]\n",
            " [-2.8 -0.8  1.2 -0.8  3.2]]\n",
            "(2, 5)\n",
            "[[2.   2.4 ]\n",
            " [2.4  4.16]]\n"
          ]
        }
      ]
    },
    {
      "cell_type": "code",
      "source": [
        "#Diagonalization\n",
        "lamdas,q = np.linalg.eig(sigma) #Eigenvalues,Eigenvectors = np.linalg.eig(sigma)\n",
        "print(lamdas)\n",
        "print(q)"
      ],
      "metadata": {
        "colab": {
          "base_uri": "https://localhost:8080/"
        },
        "id": "PyTOcuyjgPPi",
        "outputId": "d2b317a2-db46-4885-8528-7cb2cf5e48a8"
      },
      "execution_count": 21,
      "outputs": [
        {
          "output_type": "stream",
          "name": "stdout",
          "text": [
            "[0.44819454 5.71180546]\n",
            "[[-0.83975136 -0.54297114]\n",
            " [ 0.54297114 -0.83975136]]\n"
          ]
        }
      ]
    }
  ]
}